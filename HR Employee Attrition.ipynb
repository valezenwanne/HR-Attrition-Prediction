{
 "cells": [
  {
   "cell_type": "markdown",
   "id": "c95cc531",
   "metadata": {},
   "source": [
    "# HR Employee Attrition\n",
    "- By Valentine Ezenwanne\n",
    "\n",
    "\n",
    "## Project Objective\n",
    "\n",
    "The objectives of this project include\n",
    "- To build and deploy a machine learning model to predict employee attrition"
   ]
  },
  {
   "cell_type": "markdown",
   "id": "964c5011",
   "metadata": {},
   "source": [
    "## Dataset Description\n",
    "The dataset was provided by MeriSkill\n"
   ]
  },
  {
   "cell_type": "markdown",
   "id": "a0d50ed7",
   "metadata": {},
   "source": [
    "## Import the packages"
   ]
  },
  {
   "cell_type": "code",
   "execution_count": 1,
   "id": "e1837602",
   "metadata": {},
   "outputs": [],
   "source": [
    "#import the packages\n",
    "import pandas as pd\n",
    "import numpy as np\n",
    "import matplotlib.pyplot as plt\n",
    "import seaborn as sns\n",
    "%matplotlib inline\n",
    "pd.set_option('display.max_columns', None)\n",
    "import warnings\n",
    "warnings.filterwarnings('ignore')"
   ]
  },
  {
   "cell_type": "markdown",
   "id": "93a0f74b",
   "metadata": {},
   "source": [
    "## Load the dataset"
   ]
  },
  {
   "cell_type": "code",
   "execution_count": 2,
   "id": "907c442d",
   "metadata": {},
   "outputs": [],
   "source": [
    "#load the dataset\n",
    "df = pd.read_csv('HR-Employee-Attrition.csv')"
   ]
  },
  {
   "cell_type": "code",
   "execution_count": 3,
   "id": "3d00e10c",
   "metadata": {},
   "outputs": [
    {
     "data": {
      "text/html": [
       "<div>\n",
       "<style scoped>\n",
       "    .dataframe tbody tr th:only-of-type {\n",
       "        vertical-align: middle;\n",
       "    }\n",
       "\n",
       "    .dataframe tbody tr th {\n",
       "        vertical-align: top;\n",
       "    }\n",
       "\n",
       "    .dataframe thead th {\n",
       "        text-align: right;\n",
       "    }\n",
       "</style>\n",
       "<table border=\"1\" class=\"dataframe\">\n",
       "  <thead>\n",
       "    <tr style=\"text-align: right;\">\n",
       "      <th></th>\n",
       "      <th>Age</th>\n",
       "      <th>Attrition</th>\n",
       "      <th>BusinessTravel</th>\n",
       "      <th>DailyRate</th>\n",
       "      <th>Department</th>\n",
       "      <th>DistanceFromHome</th>\n",
       "      <th>Education</th>\n",
       "      <th>EducationField</th>\n",
       "      <th>EmployeeCount</th>\n",
       "      <th>EmployeeNumber</th>\n",
       "      <th>EnvironmentSatisfaction</th>\n",
       "      <th>Gender</th>\n",
       "      <th>HourlyRate</th>\n",
       "      <th>JobInvolvement</th>\n",
       "      <th>JobLevel</th>\n",
       "      <th>JobRole</th>\n",
       "      <th>JobSatisfaction</th>\n",
       "      <th>MaritalStatus</th>\n",
       "      <th>MonthlyIncome</th>\n",
       "      <th>MonthlyRate</th>\n",
       "      <th>NumCompaniesWorked</th>\n",
       "      <th>Over18</th>\n",
       "      <th>OverTime</th>\n",
       "      <th>PercentSalaryHike</th>\n",
       "      <th>PerformanceRating</th>\n",
       "      <th>RelationshipSatisfaction</th>\n",
       "      <th>StandardHours</th>\n",
       "      <th>StockOptionLevel</th>\n",
       "      <th>TotalWorkingYears</th>\n",
       "      <th>TrainingTimesLastYear</th>\n",
       "      <th>WorkLifeBalance</th>\n",
       "      <th>YearsAtCompany</th>\n",
       "      <th>YearsInCurrentRole</th>\n",
       "      <th>YearsSinceLastPromotion</th>\n",
       "      <th>YearsWithCurrManager</th>\n",
       "    </tr>\n",
       "  </thead>\n",
       "  <tbody>\n",
       "    <tr>\n",
       "      <th>0</th>\n",
       "      <td>41</td>\n",
       "      <td>Yes</td>\n",
       "      <td>Travel_Rarely</td>\n",
       "      <td>1102</td>\n",
       "      <td>Sales</td>\n",
       "      <td>1</td>\n",
       "      <td>2</td>\n",
       "      <td>Life Sciences</td>\n",
       "      <td>1</td>\n",
       "      <td>1</td>\n",
       "      <td>2</td>\n",
       "      <td>Female</td>\n",
       "      <td>94</td>\n",
       "      <td>3</td>\n",
       "      <td>2</td>\n",
       "      <td>Sales Executive</td>\n",
       "      <td>4</td>\n",
       "      <td>Single</td>\n",
       "      <td>5993</td>\n",
       "      <td>19479</td>\n",
       "      <td>8</td>\n",
       "      <td>Y</td>\n",
       "      <td>Yes</td>\n",
       "      <td>11</td>\n",
       "      <td>3</td>\n",
       "      <td>1</td>\n",
       "      <td>80</td>\n",
       "      <td>0</td>\n",
       "      <td>8</td>\n",
       "      <td>0</td>\n",
       "      <td>1</td>\n",
       "      <td>6</td>\n",
       "      <td>4</td>\n",
       "      <td>0</td>\n",
       "      <td>5</td>\n",
       "    </tr>\n",
       "    <tr>\n",
       "      <th>1</th>\n",
       "      <td>49</td>\n",
       "      <td>No</td>\n",
       "      <td>Travel_Frequently</td>\n",
       "      <td>279</td>\n",
       "      <td>Research &amp; Development</td>\n",
       "      <td>8</td>\n",
       "      <td>1</td>\n",
       "      <td>Life Sciences</td>\n",
       "      <td>1</td>\n",
       "      <td>2</td>\n",
       "      <td>3</td>\n",
       "      <td>Male</td>\n",
       "      <td>61</td>\n",
       "      <td>2</td>\n",
       "      <td>2</td>\n",
       "      <td>Research Scientist</td>\n",
       "      <td>2</td>\n",
       "      <td>Married</td>\n",
       "      <td>5130</td>\n",
       "      <td>24907</td>\n",
       "      <td>1</td>\n",
       "      <td>Y</td>\n",
       "      <td>No</td>\n",
       "      <td>23</td>\n",
       "      <td>4</td>\n",
       "      <td>4</td>\n",
       "      <td>80</td>\n",
       "      <td>1</td>\n",
       "      <td>10</td>\n",
       "      <td>3</td>\n",
       "      <td>3</td>\n",
       "      <td>10</td>\n",
       "      <td>7</td>\n",
       "      <td>1</td>\n",
       "      <td>7</td>\n",
       "    </tr>\n",
       "  </tbody>\n",
       "</table>\n",
       "</div>"
      ],
      "text/plain": [
       "   Age Attrition     BusinessTravel  DailyRate              Department  \\\n",
       "0   41       Yes      Travel_Rarely       1102                   Sales   \n",
       "1   49        No  Travel_Frequently        279  Research & Development   \n",
       "\n",
       "   DistanceFromHome  Education EducationField  EmployeeCount  EmployeeNumber  \\\n",
       "0                 1          2  Life Sciences              1               1   \n",
       "1                 8          1  Life Sciences              1               2   \n",
       "\n",
       "   EnvironmentSatisfaction  Gender  HourlyRate  JobInvolvement  JobLevel  \\\n",
       "0                        2  Female          94               3         2   \n",
       "1                        3    Male          61               2         2   \n",
       "\n",
       "              JobRole  JobSatisfaction MaritalStatus  MonthlyIncome  \\\n",
       "0     Sales Executive                4        Single           5993   \n",
       "1  Research Scientist                2       Married           5130   \n",
       "\n",
       "   MonthlyRate  NumCompaniesWorked Over18 OverTime  PercentSalaryHike  \\\n",
       "0        19479                   8      Y      Yes                 11   \n",
       "1        24907                   1      Y       No                 23   \n",
       "\n",
       "   PerformanceRating  RelationshipSatisfaction  StandardHours  \\\n",
       "0                  3                         1             80   \n",
       "1                  4                         4             80   \n",
       "\n",
       "   StockOptionLevel  TotalWorkingYears  TrainingTimesLastYear  \\\n",
       "0                 0                  8                      0   \n",
       "1                 1                 10                      3   \n",
       "\n",
       "   WorkLifeBalance  YearsAtCompany  YearsInCurrentRole  \\\n",
       "0                1               6                   4   \n",
       "1                3              10                   7   \n",
       "\n",
       "   YearsSinceLastPromotion  YearsWithCurrManager  \n",
       "0                        0                     5  \n",
       "1                        1                     7  "
      ]
     },
     "execution_count": 3,
     "metadata": {},
     "output_type": "execute_result"
    }
   ],
   "source": [
    "#display few lines\n",
    "df.head(2)"
   ]
  },
  {
   "cell_type": "markdown",
   "id": "99bba87b",
   "metadata": {},
   "source": [
    "# Data Wrangling"
   ]
  },
  {
   "cell_type": "code",
   "execution_count": 4,
   "id": "0f0c7806",
   "metadata": {},
   "outputs": [
    {
     "data": {
      "text/plain": [
       "(1470, 35)"
      ]
     },
     "execution_count": 4,
     "metadata": {},
     "output_type": "execute_result"
    }
   ],
   "source": [
    "#Understanding the shape\n",
    "df.shape"
   ]
  },
  {
   "cell_type": "markdown",
   "id": "4b959042",
   "metadata": {},
   "source": [
    "- The dataset contain 1,470 records and 35 columns"
   ]
  },
  {
   "cell_type": "code",
   "execution_count": 5,
   "id": "7cead162",
   "metadata": {},
   "outputs": [
    {
     "data": {
      "text/plain": [
       "Age                          int64\n",
       "Attrition                   object\n",
       "BusinessTravel              object\n",
       "DailyRate                    int64\n",
       "Department                  object\n",
       "DistanceFromHome             int64\n",
       "Education                    int64\n",
       "EducationField              object\n",
       "EmployeeCount                int64\n",
       "EmployeeNumber               int64\n",
       "EnvironmentSatisfaction      int64\n",
       "Gender                      object\n",
       "HourlyRate                   int64\n",
       "JobInvolvement               int64\n",
       "JobLevel                     int64\n",
       "JobRole                     object\n",
       "JobSatisfaction              int64\n",
       "MaritalStatus               object\n",
       "MonthlyIncome                int64\n",
       "MonthlyRate                  int64\n",
       "NumCompaniesWorked           int64\n",
       "Over18                      object\n",
       "OverTime                    object\n",
       "PercentSalaryHike            int64\n",
       "PerformanceRating            int64\n",
       "RelationshipSatisfaction     int64\n",
       "StandardHours                int64\n",
       "StockOptionLevel             int64\n",
       "TotalWorkingYears            int64\n",
       "TrainingTimesLastYear        int64\n",
       "WorkLifeBalance              int64\n",
       "YearsAtCompany               int64\n",
       "YearsInCurrentRole           int64\n",
       "YearsSinceLastPromotion      int64\n",
       "YearsWithCurrManager         int64\n",
       "dtype: object"
      ]
     },
     "execution_count": 5,
     "metadata": {},
     "output_type": "execute_result"
    }
   ],
   "source": [
    "#checking the datatypes\n",
    "df.dtypes"
   ]
  },
  {
   "cell_type": "code",
   "execution_count": 6,
   "id": "0cae823f",
   "metadata": {},
   "outputs": [
    {
     "data": {
      "text/plain": [
       "9"
      ]
     },
     "execution_count": 6,
     "metadata": {},
     "output_type": "execute_result"
    }
   ],
   "source": [
    "#counting the categorical variables\n",
    "df.select_dtypes(include='object').any().sum()"
   ]
  },
  {
   "cell_type": "markdown",
   "id": "f5f43c99",
   "metadata": {},
   "source": [
    "- There are nine(9) categorical variables"
   ]
  },
  {
   "cell_type": "code",
   "execution_count": 7,
   "id": "8e8f65a3",
   "metadata": {},
   "outputs": [
    {
     "data": {
      "text/plain": [
       "26"
      ]
     },
     "execution_count": 7,
     "metadata": {},
     "output_type": "execute_result"
    }
   ],
   "source": [
    "#counting the numerical variables\n",
    "df.select_dtypes(include=['int64', 'float64']).any().sum()"
   ]
  },
  {
   "cell_type": "markdown",
   "id": "321e1269",
   "metadata": {},
   "source": [
    "- There are 26 numerical variables"
   ]
  },
  {
   "cell_type": "code",
   "execution_count": 8,
   "id": "a6d5ff08",
   "metadata": {},
   "outputs": [
    {
     "data": {
      "text/plain": [
       "0"
      ]
     },
     "execution_count": 8,
     "metadata": {},
     "output_type": "execute_result"
    }
   ],
   "source": [
    "#checking for missing values\n",
    "df.isna().sum().sum()"
   ]
  },
  {
   "cell_type": "markdown",
   "id": "06576145",
   "metadata": {},
   "source": [
    "- There are no missing values"
   ]
  },
  {
   "cell_type": "code",
   "execution_count": 9,
   "id": "05d63049",
   "metadata": {},
   "outputs": [
    {
     "data": {
      "text/plain": [
       "0"
      ]
     },
     "execution_count": 9,
     "metadata": {},
     "output_type": "execute_result"
    }
   ],
   "source": [
    "#checking for duplicates\n",
    "df.duplicated().sum()"
   ]
  },
  {
   "cell_type": "markdown",
   "id": "40fef3c3",
   "metadata": {},
   "source": [
    "- There are no duplicates"
   ]
  },
  {
   "cell_type": "markdown",
   "id": "6c0e18b4",
   "metadata": {},
   "source": [
    "### Checking for unique values in the Categorical variables"
   ]
  },
  {
   "cell_type": "code",
   "execution_count": 10,
   "id": "512dc5b4",
   "metadata": {},
   "outputs": [
    {
     "data": {
      "text/plain": [
       "array(['Yes', 'No'], dtype=object)"
      ]
     },
     "execution_count": 10,
     "metadata": {},
     "output_type": "execute_result"
    }
   ],
   "source": [
    "#checking for unique values in Attrition\n",
    "df['Attrition'].unique()"
   ]
  },
  {
   "cell_type": "code",
   "execution_count": 11,
   "id": "601a4366",
   "metadata": {},
   "outputs": [
    {
     "data": {
      "text/plain": [
       "array(['Travel_Rarely', 'Travel_Frequently', 'Non-Travel'], dtype=object)"
      ]
     },
     "execution_count": 11,
     "metadata": {},
     "output_type": "execute_result"
    }
   ],
   "source": [
    "#checking for unique values in BusinessTravel\n",
    "df['BusinessTravel'].unique()"
   ]
  },
  {
   "cell_type": "code",
   "execution_count": 12,
   "id": "18c65f00",
   "metadata": {},
   "outputs": [
    {
     "data": {
      "text/plain": [
       "array(['Sales', 'Research & Development', 'Human Resources'], dtype=object)"
      ]
     },
     "execution_count": 12,
     "metadata": {},
     "output_type": "execute_result"
    }
   ],
   "source": [
    "#checking for unique values in Department\n",
    "df['Department'].unique()"
   ]
  },
  {
   "cell_type": "code",
   "execution_count": 13,
   "id": "1f5f1ec6",
   "metadata": {},
   "outputs": [
    {
     "data": {
      "text/plain": [
       "array(['Life Sciences', 'Other', 'Medical', 'Marketing',\n",
       "       'Technical Degree', 'Human Resources'], dtype=object)"
      ]
     },
     "execution_count": 13,
     "metadata": {},
     "output_type": "execute_result"
    }
   ],
   "source": [
    "#checking for unique values in EducationField\n",
    "df['EducationField'].unique()"
   ]
  },
  {
   "cell_type": "code",
   "execution_count": 14,
   "id": "6bd4f2dd",
   "metadata": {},
   "outputs": [
    {
     "data": {
      "text/plain": [
       "array(['Female', 'Male'], dtype=object)"
      ]
     },
     "execution_count": 14,
     "metadata": {},
     "output_type": "execute_result"
    }
   ],
   "source": [
    "#checking for unique values in Gender\n",
    "df['Gender'].unique()"
   ]
  },
  {
   "cell_type": "code",
   "execution_count": 15,
   "id": "ea26c635",
   "metadata": {},
   "outputs": [
    {
     "data": {
      "text/plain": [
       "array(['Sales Executive', 'Research Scientist', 'Laboratory Technician',\n",
       "       'Manufacturing Director', 'Healthcare Representative', 'Manager',\n",
       "       'Sales Representative', 'Research Director', 'Human Resources'],\n",
       "      dtype=object)"
      ]
     },
     "execution_count": 15,
     "metadata": {},
     "output_type": "execute_result"
    }
   ],
   "source": [
    "#checking for unique values in JobRole\n",
    "df['JobRole'].unique()"
   ]
  },
  {
   "cell_type": "code",
   "execution_count": 16,
   "id": "03aeea46",
   "metadata": {},
   "outputs": [
    {
     "data": {
      "text/plain": [
       "array(['Single', 'Married', 'Divorced'], dtype=object)"
      ]
     },
     "execution_count": 16,
     "metadata": {},
     "output_type": "execute_result"
    }
   ],
   "source": [
    "#checking for unique values in MaritalStatus\n",
    "df['MaritalStatus'].unique()"
   ]
  },
  {
   "cell_type": "code",
   "execution_count": 17,
   "id": "b5e41894",
   "metadata": {},
   "outputs": [
    {
     "data": {
      "text/plain": [
       "array(['Y'], dtype=object)"
      ]
     },
     "execution_count": 17,
     "metadata": {},
     "output_type": "execute_result"
    }
   ],
   "source": [
    "#checking for unique values in Over18\n",
    "df['Over18'].unique()"
   ]
  },
  {
   "cell_type": "markdown",
   "id": "23fa54e2",
   "metadata": {},
   "source": [
    "- There is only one unique value in Over18, Y. The columns has to be dropped"
   ]
  },
  {
   "cell_type": "code",
   "execution_count": 18,
   "id": "4679077b",
   "metadata": {},
   "outputs": [],
   "source": [
    "#dropping the over18 column\n",
    "df.drop('Over18', axis=1, inplace=True)"
   ]
  },
  {
   "cell_type": "code",
   "execution_count": 19,
   "id": "4b1d05a3",
   "metadata": {},
   "outputs": [
    {
     "data": {
      "text/plain": [
       "array(['Yes', 'No'], dtype=object)"
      ]
     },
     "execution_count": 19,
     "metadata": {},
     "output_type": "execute_result"
    }
   ],
   "source": [
    "#checking for unique values in OverTime\n",
    "df['OverTime'].unique()"
   ]
  },
  {
   "cell_type": "code",
   "execution_count": 20,
   "id": "435feae3",
   "metadata": {},
   "outputs": [
    {
     "data": {
      "text/plain": [
       "1    1470\n",
       "Name: EmployeeCount, dtype: int64"
      ]
     },
     "execution_count": 20,
     "metadata": {},
     "output_type": "execute_result"
    }
   ],
   "source": [
    "#checking for unique values in EmployeeCount\n",
    "df['EmployeeCount'].value_counts()"
   ]
  },
  {
   "cell_type": "markdown",
   "id": "243b4ef2",
   "metadata": {},
   "source": [
    "- There is only one value in the column, it has to be dropped"
   ]
  },
  {
   "cell_type": "code",
   "execution_count": 21,
   "id": "0bde384f",
   "metadata": {},
   "outputs": [],
   "source": [
    "#dropping the EmployeeCount column\n",
    "df.drop('EmployeeCount', axis=1, inplace=True)"
   ]
  },
  {
   "cell_type": "code",
   "execution_count": 22,
   "id": "54600cee",
   "metadata": {},
   "outputs": [
    {
     "data": {
      "text/plain": [
       "80    1470\n",
       "Name: StandardHours, dtype: int64"
      ]
     },
     "execution_count": 22,
     "metadata": {},
     "output_type": "execute_result"
    }
   ],
   "source": [
    "#checking for values in StandardHours\n",
    "df['StandardHours'].value_counts()"
   ]
  },
  {
   "cell_type": "markdown",
   "id": "cb92e6dd",
   "metadata": {},
   "source": [
    "- There is only one value in the column, it has to be dropped"
   ]
  },
  {
   "cell_type": "code",
   "execution_count": 23,
   "id": "2e5b25f0",
   "metadata": {},
   "outputs": [],
   "source": [
    "#dropping the StandardHours column\n",
    "df.drop('StandardHours', axis=1, inplace=True)"
   ]
  },
  {
   "cell_type": "code",
   "execution_count": 24,
   "id": "2e674414",
   "metadata": {},
   "outputs": [
    {
     "data": {
      "text/plain": [
       "1470"
      ]
     },
     "execution_count": 24,
     "metadata": {},
     "output_type": "execute_result"
    }
   ],
   "source": [
    "#checking for values in EmployeeNumber\n",
    "df['EmployeeNumber'].nunique()"
   ]
  },
  {
   "cell_type": "code",
   "execution_count": 25,
   "id": "d08cfaa3",
   "metadata": {},
   "outputs": [],
   "source": [
    "#dropping the EmployeeNumber column\n",
    "df.drop('EmployeeNumber', axis=1, inplace=True)"
   ]
  },
  {
   "cell_type": "markdown",
   "id": "9779e8a6",
   "metadata": {},
   "source": [
    "# Data Preprocessing"
   ]
  },
  {
   "cell_type": "markdown",
   "id": "b36f4f5a",
   "metadata": {},
   "source": [
    "### Mapping the Categorical variables to integer"
   ]
  },
  {
   "cell_type": "code",
   "execution_count": 26,
   "id": "02ca31e4",
   "metadata": {},
   "outputs": [],
   "source": [
    "#map the target variable(Attrition) to integer\n",
    "\n",
    "map_dict = {\n",
    "    'Yes': 1,\n",
    "    'No': 0\n",
    "}\n",
    "\n",
    "df['Attrition'] = df['Attrition'].map(map_dict)"
   ]
  },
  {
   "cell_type": "code",
   "execution_count": 27,
   "id": "259a7173",
   "metadata": {},
   "outputs": [
    {
     "data": {
      "text/plain": [
       "0    1233\n",
       "1     237\n",
       "Name: Attrition, dtype: int64"
      ]
     },
     "execution_count": 27,
     "metadata": {},
     "output_type": "execute_result"
    }
   ],
   "source": [
    "#confirm the Attrition has been mapped\n",
    "df['Attrition'].value_counts()"
   ]
  },
  {
   "cell_type": "code",
   "execution_count": 28,
   "id": "c17c678b",
   "metadata": {},
   "outputs": [],
   "source": [
    "#map the BusinessTravel to integer\n",
    "\n",
    "map_dict1 = {\n",
    "    'Travel_Rarely': 1,\n",
    "    'Travel_Frequently': 2,\n",
    "    'Non-Travel': 3\n",
    "    \n",
    "}\n",
    "\n",
    "df['BusinessTravel'] = df['BusinessTravel'].map(map_dict1)"
   ]
  },
  {
   "cell_type": "code",
   "execution_count": 29,
   "id": "4a6badbc",
   "metadata": {},
   "outputs": [
    {
     "data": {
      "text/plain": [
       "1    1043\n",
       "2     277\n",
       "3     150\n",
       "Name: BusinessTravel, dtype: int64"
      ]
     },
     "execution_count": 29,
     "metadata": {},
     "output_type": "execute_result"
    }
   ],
   "source": [
    "#confirm the BusinessTravel has been mapped\n",
    "df['BusinessTravel'].value_counts()"
   ]
  },
  {
   "cell_type": "code",
   "execution_count": 30,
   "id": "22d11349",
   "metadata": {},
   "outputs": [],
   "source": [
    "#map the Department to integer\n",
    "map_dict2 = {\n",
    "    'Sales': 1,\n",
    "    'Research & Development': 2,\n",
    "    'Human Resources': 3\n",
    "    \n",
    "}\n",
    "\n",
    "df['Department'] = df['Department'].map(map_dict2)"
   ]
  },
  {
   "cell_type": "code",
   "execution_count": 31,
   "id": "e4412799",
   "metadata": {},
   "outputs": [
    {
     "data": {
      "text/plain": [
       "2    961\n",
       "1    446\n",
       "3     63\n",
       "Name: Department, dtype: int64"
      ]
     },
     "execution_count": 31,
     "metadata": {},
     "output_type": "execute_result"
    }
   ],
   "source": [
    "#confirm the Department has been mapped\n",
    "df['Department'].value_counts()"
   ]
  },
  {
   "cell_type": "code",
   "execution_count": 32,
   "id": "3e79ea40",
   "metadata": {},
   "outputs": [],
   "source": [
    "#map the Gender to integer\n",
    "\n",
    "map_dict3 = {\n",
    "    'Female': 1,\n",
    "    'Male': 0\n",
    "}\n",
    "\n",
    "df['Gender'] = df['Gender'].map(map_dict3)"
   ]
  },
  {
   "cell_type": "code",
   "execution_count": 33,
   "id": "58fd628a",
   "metadata": {},
   "outputs": [
    {
     "data": {
      "text/plain": [
       "0    882\n",
       "1    588\n",
       "Name: Gender, dtype: int64"
      ]
     },
     "execution_count": 33,
     "metadata": {},
     "output_type": "execute_result"
    }
   ],
   "source": [
    "#confirm the Gender has been mapped\n",
    "df['Gender'].value_counts()"
   ]
  },
  {
   "cell_type": "code",
   "execution_count": 34,
   "id": "601c5b4a",
   "metadata": {},
   "outputs": [],
   "source": [
    "#map the Marital Status to integer\n",
    "map_dict4 = {\n",
    "    'Single': 1,\n",
    "    'Married': 2,\n",
    "    'Divorced': 3\n",
    "    \n",
    "}\n",
    "\n",
    "df['MaritalStatus'] = df['MaritalStatus'].map(map_dict4)"
   ]
  },
  {
   "cell_type": "code",
   "execution_count": 35,
   "id": "363cac99",
   "metadata": {},
   "outputs": [
    {
     "data": {
      "text/plain": [
       "2    673\n",
       "1    470\n",
       "3    327\n",
       "Name: MaritalStatus, dtype: int64"
      ]
     },
     "execution_count": 35,
     "metadata": {},
     "output_type": "execute_result"
    }
   ],
   "source": [
    "#confirm the Marital Status has been mapped\n",
    "df['MaritalStatus'].value_counts()"
   ]
  },
  {
   "cell_type": "code",
   "execution_count": 36,
   "id": "af8b7aa5",
   "metadata": {},
   "outputs": [],
   "source": [
    "#map Over Time to integer\n",
    "map_dict5 = {\n",
    "    'Yes': 1,\n",
    "    'No': 0\n",
    "}\n",
    "\n",
    "df['OverTime'] = df['OverTime'].map(map_dict5)"
   ]
  },
  {
   "cell_type": "code",
   "execution_count": 37,
   "id": "5210e289",
   "metadata": {},
   "outputs": [
    {
     "data": {
      "text/plain": [
       "0    1054\n",
       "1     416\n",
       "Name: OverTime, dtype: int64"
      ]
     },
     "execution_count": 37,
     "metadata": {},
     "output_type": "execute_result"
    }
   ],
   "source": [
    "#confirm the Over Time has been mapped\n",
    "df['OverTime'].value_counts()"
   ]
  },
  {
   "cell_type": "code",
   "execution_count": 38,
   "id": "f916e747",
   "metadata": {},
   "outputs": [],
   "source": [
    "#map the Education Field to integer\n",
    "map_dict6 = {\n",
    "    'Life Sciences': 1,\n",
    "    'Medical': 2,\n",
    "    'Marketing': 3,\n",
    "    'Technical Degree': 4,\n",
    "    'Human Resources': 5,\n",
    "    'Other': 6\n",
    "    \n",
    "}\n",
    "\n",
    "df['EducationField'] = df['EducationField'].map(map_dict6)"
   ]
  },
  {
   "cell_type": "code",
   "execution_count": 39,
   "id": "fc0cf922",
   "metadata": {},
   "outputs": [
    {
     "data": {
      "text/plain": [
       "1    606\n",
       "2    464\n",
       "3    159\n",
       "4    132\n",
       "6     82\n",
       "5     27\n",
       "Name: EducationField, dtype: int64"
      ]
     },
     "execution_count": 39,
     "metadata": {},
     "output_type": "execute_result"
    }
   ],
   "source": [
    "#confirm the Education Field has been mapped\n",
    "df['EducationField'].value_counts()"
   ]
  },
  {
   "cell_type": "code",
   "execution_count": 40,
   "id": "ce7c2a44",
   "metadata": {},
   "outputs": [],
   "source": [
    "#map the Job Roles to integer\n",
    "map_dict7 = {\n",
    "    'Sales Executive': 1,\n",
    "    'Research Scientist': 2,\n",
    "    'Laboratory Technician': 3,\n",
    "    'Manufacturing Director': 4,\n",
    "    'Healthcare Representative': 5,\n",
    "    'Manager': 6,\n",
    "    'Sales Representative': 7,\n",
    "    'Research Director': 8,\n",
    "    'Human Resources': 9\n",
    "    \n",
    "}\n",
    "\n",
    "df['JobRole'] = df['JobRole'].map(map_dict7)"
   ]
  },
  {
   "cell_type": "code",
   "execution_count": 41,
   "id": "0cca8f8a",
   "metadata": {},
   "outputs": [
    {
     "data": {
      "text/plain": [
       "1    326\n",
       "2    292\n",
       "3    259\n",
       "4    145\n",
       "5    131\n",
       "6    102\n",
       "7     83\n",
       "8     80\n",
       "9     52\n",
       "Name: JobRole, dtype: int64"
      ]
     },
     "execution_count": 41,
     "metadata": {},
     "output_type": "execute_result"
    }
   ],
   "source": [
    "#confirm the Job role has been mapped\n",
    "df['JobRole'].value_counts()"
   ]
  },
  {
   "cell_type": "code",
   "execution_count": 42,
   "id": "c9c90abb",
   "metadata": {},
   "outputs": [
    {
     "data": {
      "text/html": [
       "<div>\n",
       "<style scoped>\n",
       "    .dataframe tbody tr th:only-of-type {\n",
       "        vertical-align: middle;\n",
       "    }\n",
       "\n",
       "    .dataframe tbody tr th {\n",
       "        vertical-align: top;\n",
       "    }\n",
       "\n",
       "    .dataframe thead th {\n",
       "        text-align: right;\n",
       "    }\n",
       "</style>\n",
       "<table border=\"1\" class=\"dataframe\">\n",
       "  <thead>\n",
       "    <tr style=\"text-align: right;\">\n",
       "      <th></th>\n",
       "      <th>Age</th>\n",
       "      <th>Attrition</th>\n",
       "      <th>BusinessTravel</th>\n",
       "      <th>DailyRate</th>\n",
       "      <th>Department</th>\n",
       "      <th>DistanceFromHome</th>\n",
       "      <th>Education</th>\n",
       "      <th>EducationField</th>\n",
       "      <th>EnvironmentSatisfaction</th>\n",
       "      <th>Gender</th>\n",
       "      <th>HourlyRate</th>\n",
       "      <th>JobInvolvement</th>\n",
       "      <th>JobLevel</th>\n",
       "      <th>JobRole</th>\n",
       "      <th>JobSatisfaction</th>\n",
       "      <th>MaritalStatus</th>\n",
       "      <th>MonthlyIncome</th>\n",
       "      <th>MonthlyRate</th>\n",
       "      <th>NumCompaniesWorked</th>\n",
       "      <th>OverTime</th>\n",
       "      <th>PercentSalaryHike</th>\n",
       "      <th>PerformanceRating</th>\n",
       "      <th>RelationshipSatisfaction</th>\n",
       "      <th>StockOptionLevel</th>\n",
       "      <th>TotalWorkingYears</th>\n",
       "      <th>TrainingTimesLastYear</th>\n",
       "      <th>WorkLifeBalance</th>\n",
       "      <th>YearsAtCompany</th>\n",
       "      <th>YearsInCurrentRole</th>\n",
       "      <th>YearsSinceLastPromotion</th>\n",
       "      <th>YearsWithCurrManager</th>\n",
       "    </tr>\n",
       "  </thead>\n",
       "  <tbody>\n",
       "    <tr>\n",
       "      <th>0</th>\n",
       "      <td>41</td>\n",
       "      <td>1</td>\n",
       "      <td>1</td>\n",
       "      <td>1102</td>\n",
       "      <td>1</td>\n",
       "      <td>1</td>\n",
       "      <td>2</td>\n",
       "      <td>1</td>\n",
       "      <td>2</td>\n",
       "      <td>1</td>\n",
       "      <td>94</td>\n",
       "      <td>3</td>\n",
       "      <td>2</td>\n",
       "      <td>1</td>\n",
       "      <td>4</td>\n",
       "      <td>1</td>\n",
       "      <td>5993</td>\n",
       "      <td>19479</td>\n",
       "      <td>8</td>\n",
       "      <td>1</td>\n",
       "      <td>11</td>\n",
       "      <td>3</td>\n",
       "      <td>1</td>\n",
       "      <td>0</td>\n",
       "      <td>8</td>\n",
       "      <td>0</td>\n",
       "      <td>1</td>\n",
       "      <td>6</td>\n",
       "      <td>4</td>\n",
       "      <td>0</td>\n",
       "      <td>5</td>\n",
       "    </tr>\n",
       "    <tr>\n",
       "      <th>1</th>\n",
       "      <td>49</td>\n",
       "      <td>0</td>\n",
       "      <td>2</td>\n",
       "      <td>279</td>\n",
       "      <td>2</td>\n",
       "      <td>8</td>\n",
       "      <td>1</td>\n",
       "      <td>1</td>\n",
       "      <td>3</td>\n",
       "      <td>0</td>\n",
       "      <td>61</td>\n",
       "      <td>2</td>\n",
       "      <td>2</td>\n",
       "      <td>2</td>\n",
       "      <td>2</td>\n",
       "      <td>2</td>\n",
       "      <td>5130</td>\n",
       "      <td>24907</td>\n",
       "      <td>1</td>\n",
       "      <td>0</td>\n",
       "      <td>23</td>\n",
       "      <td>4</td>\n",
       "      <td>4</td>\n",
       "      <td>1</td>\n",
       "      <td>10</td>\n",
       "      <td>3</td>\n",
       "      <td>3</td>\n",
       "      <td>10</td>\n",
       "      <td>7</td>\n",
       "      <td>1</td>\n",
       "      <td>7</td>\n",
       "    </tr>\n",
       "  </tbody>\n",
       "</table>\n",
       "</div>"
      ],
      "text/plain": [
       "   Age  Attrition  BusinessTravel  DailyRate  Department  DistanceFromHome  \\\n",
       "0   41          1               1       1102           1                 1   \n",
       "1   49          0               2        279           2                 8   \n",
       "\n",
       "   Education  EducationField  EnvironmentSatisfaction  Gender  HourlyRate  \\\n",
       "0          2               1                        2       1          94   \n",
       "1          1               1                        3       0          61   \n",
       "\n",
       "   JobInvolvement  JobLevel  JobRole  JobSatisfaction  MaritalStatus  \\\n",
       "0               3         2        1                4              1   \n",
       "1               2         2        2                2              2   \n",
       "\n",
       "   MonthlyIncome  MonthlyRate  NumCompaniesWorked  OverTime  \\\n",
       "0           5993        19479                   8         1   \n",
       "1           5130        24907                   1         0   \n",
       "\n",
       "   PercentSalaryHike  PerformanceRating  RelationshipSatisfaction  \\\n",
       "0                 11                  3                         1   \n",
       "1                 23                  4                         4   \n",
       "\n",
       "   StockOptionLevel  TotalWorkingYears  TrainingTimesLastYear  \\\n",
       "0                 0                  8                      0   \n",
       "1                 1                 10                      3   \n",
       "\n",
       "   WorkLifeBalance  YearsAtCompany  YearsInCurrentRole  \\\n",
       "0                1               6                   4   \n",
       "1                3              10                   7   \n",
       "\n",
       "   YearsSinceLastPromotion  YearsWithCurrManager  \n",
       "0                        0                     5  \n",
       "1                        1                     7  "
      ]
     },
     "execution_count": 42,
     "metadata": {},
     "output_type": "execute_result"
    }
   ],
   "source": [
    "#display few lines \n",
    "df.head(2)"
   ]
  },
  {
   "cell_type": "markdown",
   "id": "91e6fc6a",
   "metadata": {},
   "source": [
    "- Every Categorical features has been mapped to integers"
   ]
  },
  {
   "cell_type": "markdown",
   "id": "e7d04c6b",
   "metadata": {},
   "source": [
    "## Import the packages"
   ]
  },
  {
   "cell_type": "code",
   "execution_count": 45,
   "id": "487e6d07",
   "metadata": {},
   "outputs": [],
   "source": [
    "from sklearn.preprocessing import OneHotEncoder, StandardScaler\n",
    "from sklearn.model_selection import train_test_split\n",
    "from sklearn.compose import ColumnTransformer\n",
    "from sklearn.tree import DecisionTreeClassifier\n",
    "from sklearn.linear_model import LogisticRegression\n",
    "from sklearn.ensemble import RandomForestClassifier\n",
    "from sklearn.naive_bayes import GaussianNB\n",
    "from sklearn.svm import SVC\n",
    "from sklearn.neighbors import KNeighborsClassifier as KNN\n",
    "from xgboost import XGBClassifier\n",
    "from sklearn.metrics import accuracy_score, precision_score, recall_score, f1_score, ConfusionMatrixDisplay, RocCurveDisplay\n",
    "from sklearn.model_selection import cross_val_score, GridSearchCV, train_test_split\n",
    "from sklearn.feature_selection import SelectKBest, chi2"
   ]
  },
  {
   "cell_type": "markdown",
   "id": "5b8cd52c",
   "metadata": {},
   "source": [
    "## Feature Selection"
   ]
  },
  {
   "cell_type": "markdown",
   "id": "b80d4f3c",
   "metadata": {},
   "source": [
    "### Select the input and target for Feature Selection"
   ]
  },
  {
   "cell_type": "code",
   "execution_count": 53,
   "id": "ad0d9615",
   "metadata": {},
   "outputs": [],
   "source": [
    "#select the input features\n",
    "XX = df.drop('Attrition', axis=1)\n",
    "\n",
    "#select the target features\n",
    "yy = df['Attrition']"
   ]
  },
  {
   "cell_type": "markdown",
   "id": "fe110fe3",
   "metadata": {},
   "source": [
    "### Selecting best Features using SelectKBest"
   ]
  },
  {
   "cell_type": "code",
   "execution_count": 54,
   "id": "9ba3cff1",
   "metadata": {},
   "outputs": [],
   "source": [
    "#instantiate the SelectKBest with k = 15\n",
    "best_feat = SelectKBest(score_func=chi2, k=15)"
   ]
  },
  {
   "cell_type": "code",
   "execution_count": 55,
   "id": "7d593d9f",
   "metadata": {},
   "outputs": [],
   "source": [
    "# #select the best features\n",
    "select = best_feat.fit(XX, yy)"
   ]
  },
  {
   "cell_type": "code",
   "execution_count": 56,
   "id": "1c180056",
   "metadata": {},
   "outputs": [
    {
     "data": {
      "text/plain": [
       "array(['Age', 'DailyRate', 'DistanceFromHome', 'JobLevel',\n",
       "       'JobSatisfaction', 'MaritalStatus', 'MonthlyIncome', 'MonthlyRate',\n",
       "       'OverTime', 'StockOptionLevel', 'TotalWorkingYears',\n",
       "       'YearsAtCompany', 'YearsInCurrentRole', 'YearsSinceLastPromotion',\n",
       "       'YearsWithCurrManager'], dtype=object)"
      ]
     },
     "execution_count": 56,
     "metadata": {},
     "output_type": "execute_result"
    }
   ],
   "source": [
    "#get the best features names\n",
    "select.get_feature_names_out()"
   ]
  },
  {
   "cell_type": "code",
   "execution_count": 58,
   "id": "1e07ee83",
   "metadata": {},
   "outputs": [
    {
     "data": {
      "text/html": [
       "<div>\n",
       "<style scoped>\n",
       "    .dataframe tbody tr th:only-of-type {\n",
       "        vertical-align: middle;\n",
       "    }\n",
       "\n",
       "    .dataframe tbody tr th {\n",
       "        vertical-align: top;\n",
       "    }\n",
       "\n",
       "    .dataframe thead th {\n",
       "        text-align: right;\n",
       "    }\n",
       "</style>\n",
       "<table border=\"1\" class=\"dataframe\">\n",
       "  <thead>\n",
       "    <tr style=\"text-align: right;\">\n",
       "      <th></th>\n",
       "      <th>features</th>\n",
       "      <th>scores</th>\n",
       "    </tr>\n",
       "  </thead>\n",
       "  <tbody>\n",
       "    <tr>\n",
       "      <th>15</th>\n",
       "      <td>MonthlyIncome</td>\n",
       "      <td>127922.293694</td>\n",
       "    </tr>\n",
       "    <tr>\n",
       "      <th>16</th>\n",
       "      <td>MonthlyRate</td>\n",
       "      <td>1196.633553</td>\n",
       "    </tr>\n",
       "    <tr>\n",
       "      <th>2</th>\n",
       "      <td>DailyRate</td>\n",
       "      <td>956.580494</td>\n",
       "    </tr>\n",
       "    <tr>\n",
       "      <th>23</th>\n",
       "      <td>TotalWorkingYears</td>\n",
       "      <td>230.721618</td>\n",
       "    </tr>\n",
       "    <tr>\n",
       "      <th>26</th>\n",
       "      <td>YearsAtCompany</td>\n",
       "      <td>142.100054</td>\n",
       "    </tr>\n",
       "    <tr>\n",
       "      <th>27</th>\n",
       "      <td>YearsInCurrentRole</td>\n",
       "      <td>117.522596</td>\n",
       "    </tr>\n",
       "    <tr>\n",
       "      <th>29</th>\n",
       "      <td>YearsWithCurrManager</td>\n",
       "      <td>110.671534</td>\n",
       "    </tr>\n",
       "    <tr>\n",
       "      <th>0</th>\n",
       "      <td>Age</td>\n",
       "      <td>84.155277</td>\n",
       "    </tr>\n",
       "    <tr>\n",
       "      <th>18</th>\n",
       "      <td>OverTime</td>\n",
       "      <td>63.845067</td>\n",
       "    </tr>\n",
       "    <tr>\n",
       "      <th>4</th>\n",
       "      <td>DistanceFromHome</td>\n",
       "      <td>63.772142</td>\n",
       "    </tr>\n",
       "    <tr>\n",
       "      <th>22</th>\n",
       "      <td>StockOptionLevel</td>\n",
       "      <td>25.268826</td>\n",
       "    </tr>\n",
       "    <tr>\n",
       "      <th>11</th>\n",
       "      <td>JobLevel</td>\n",
       "      <td>24.939242</td>\n",
       "    </tr>\n",
       "    <tr>\n",
       "      <th>14</th>\n",
       "      <td>MaritalStatus</td>\n",
       "      <td>10.810420</td>\n",
       "    </tr>\n",
       "    <tr>\n",
       "      <th>28</th>\n",
       "      <td>YearsSinceLastPromotion</td>\n",
       "      <td>7.601723</td>\n",
       "    </tr>\n",
       "    <tr>\n",
       "      <th>13</th>\n",
       "      <td>JobSatisfaction</td>\n",
       "      <td>7.011947</td>\n",
       "    </tr>\n",
       "  </tbody>\n",
       "</table>\n",
       "</div>"
      ],
      "text/plain": [
       "                   features         scores\n",
       "15            MonthlyIncome  127922.293694\n",
       "16              MonthlyRate    1196.633553\n",
       "2                 DailyRate     956.580494\n",
       "23        TotalWorkingYears     230.721618\n",
       "26           YearsAtCompany     142.100054\n",
       "27       YearsInCurrentRole     117.522596\n",
       "29     YearsWithCurrManager     110.671534\n",
       "0                       Age      84.155277\n",
       "18                 OverTime      63.845067\n",
       "4          DistanceFromHome      63.772142\n",
       "22         StockOptionLevel      25.268826\n",
       "11                 JobLevel      24.939242\n",
       "14            MaritalStatus      10.810420\n",
       "28  YearsSinceLastPromotion       7.601723\n",
       "13          JobSatisfaction       7.011947"
      ]
     },
     "execution_count": 58,
     "metadata": {},
     "output_type": "execute_result"
    }
   ],
   "source": [
    "scores = pd.Series(select.scores_)\n",
    "features = pd.Series(XX.columns)\n",
    "b_feat = pd.concat([features, scores], axis=1)\n",
    "b_feat.columns = ['features', 'scores']\n",
    "best_features = b_feat.sort_values(['scores'], ascending=False).head(15)\n",
    "best_features"
   ]
  },
  {
   "cell_type": "markdown",
   "id": "f2b972f5",
   "metadata": {},
   "source": [
    "### Select the input features for Model building using best features"
   ]
  },
  {
   "cell_type": "code",
   "execution_count": 59,
   "id": "a251ec88",
   "metadata": {},
   "outputs": [
    {
     "data": {
      "text/plain": [
       "['MonthlyIncome',\n",
       " 'MonthlyRate',\n",
       " 'DailyRate',\n",
       " 'TotalWorkingYears',\n",
       " 'YearsAtCompany',\n",
       " 'YearsInCurrentRole',\n",
       " 'YearsWithCurrManager',\n",
       " 'Age',\n",
       " 'OverTime',\n",
       " 'DistanceFromHome',\n",
       " 'StockOptionLevel',\n",
       " 'JobLevel',\n",
       " 'MaritalStatus',\n",
       " 'YearsSinceLastPromotion',\n",
       " 'JobSatisfaction']"
      ]
     },
     "execution_count": 59,
     "metadata": {},
     "output_type": "execute_result"
    }
   ],
   "source": [
    "list(best_features['features'].values)"
   ]
  },
  {
   "cell_type": "code",
   "execution_count": 65,
   "id": "c14d094e",
   "metadata": {},
   "outputs": [],
   "source": [
    "#selecting the input features\n",
    "X = df[['Age', 'MaritalStatus', 'JobLevel', 'StockOptionLevel', 'DistanceFromHome', 'MonthlyIncome', 'MonthlyRate', 'DailyRate', 'TotalWorkingYears', 'YearsAtCompany', \n",
    "        'YearsInCurrentRole', 'YearsWithCurrManager', 'OverTime', 'YearsSinceLastPromotion', 'JobSatisfaction']]\n",
    "\n",
    "#selecting the target features\n",
    "y = df['Attrition']"
   ]
  },
  {
   "cell_type": "markdown",
   "id": "02204ca4",
   "metadata": {},
   "source": [
    "### Split the dataset"
   ]
  },
  {
   "cell_type": "code",
   "execution_count": 66,
   "id": "cf78671c",
   "metadata": {},
   "outputs": [],
   "source": [
    "#split the dataset\n",
    "X_train, X_test, y_train, y_test = train_test_split(X, y, test_size=0.2, random_state=42)"
   ]
  },
  {
   "cell_type": "code",
   "execution_count": 67,
   "id": "f9ec7370",
   "metadata": {},
   "outputs": [],
   "source": [
    "#Initialize the StandardScaler\n",
    "scaler = StandardScaler()"
   ]
  },
  {
   "cell_type": "code",
   "execution_count": 68,
   "id": "39978c37",
   "metadata": {},
   "outputs": [],
   "source": [
    "#fit and transform the X_train\n",
    "X_train = scaler.fit_transform(X_train)"
   ]
  },
  {
   "cell_type": "code",
   "execution_count": 69,
   "id": "00d7f9cc",
   "metadata": {},
   "outputs": [],
   "source": [
    "#transform the X_test\n",
    "X_test = scaler.transform(X_test)"
   ]
  },
  {
   "cell_type": "markdown",
   "id": "02534def",
   "metadata": {},
   "source": [
    "# Model Building"
   ]
  },
  {
   "cell_type": "code",
   "execution_count": 70,
   "id": "81ff1f48",
   "metadata": {},
   "outputs": [],
   "source": [
    "#define the models to use\n",
    "\n",
    "models = {\n",
    "    'LogisticRegression': {\n",
    "        'model': LogisticRegression()\n",
    "    },\n",
    "    \n",
    "    'DecisionTree': {\n",
    "        'model': DecisionTreeClassifier()\n",
    "    },\n",
    "    \n",
    "    'RandomForest': {\n",
    "        'model': RandomForestClassifier()\n",
    "    },\n",
    "    \n",
    "    'SVC': {\n",
    "        'model': SVC()\n",
    "    },\n",
    "    \n",
    "    'KNN': {\n",
    "        'model': KNN()\n",
    "    },\n",
    "    \n",
    "    'xgboost': {\n",
    "        'model': XGBClassifier()\n",
    "    },\n",
    "    \n",
    "    'NaiveBayes': {\n",
    "        'model': GaussianNB()\n",
    "    }\n",
    "}"
   ]
  },
  {
   "cell_type": "code",
   "execution_count": 71,
   "id": "a84ac0ee",
   "metadata": {},
   "outputs": [],
   "source": [
    "### Create a function to take each model and return accuracy score, precision score, recall score and f1_score\n",
    "\n",
    "def model_score(models, X_train, X_test, y_train, y_test):\n",
    "    '''\n",
    "    This function takes the models, X_train, X_test, y_train, y_test and returns the accuracy score\n",
    "    precision score, recall score and f1_score\n",
    "    '''\n",
    "    \n",
    "    score_params = []\n",
    "    \n",
    "    #create a for loop to loop through the models\n",
    "    for model_name, mod in models.items():\n",
    "        #instantiate the model\n",
    "        model = mod['model']\n",
    "        \n",
    "        #fit the model\n",
    "        model.fit(X_train, y_train)\n",
    "        \n",
    "        #predict the x_test\n",
    "        y_pred = model.predict(X_test)\n",
    "        \n",
    "        #check accuracy, precision, recall, f1_score\n",
    "        a_score = accuracy_score(y_test, y_pred)\n",
    "        p_score = precision_score(y_test, y_pred)\n",
    "        r_score = recall_score(y_test, y_pred)\n",
    "        f_score = f1_score(y_test, y_pred)\n",
    "        \n",
    "        #append these scores to score_params\n",
    "        score_params.append({\n",
    "            'model_name': model_name,\n",
    "            'accuracy_score': a_score.round(2),\n",
    "            'precision_score': p_score.round(2),\n",
    "            'recall_score': r_score.round(2),\n",
    "            'f1_score': f_score.round(2)\n",
    "        })\n",
    "    return score_params"
   ]
  },
  {
   "cell_type": "code",
   "execution_count": 72,
   "id": "242e14ea",
   "metadata": {},
   "outputs": [],
   "source": [
    "#call the function\n",
    "model_scores = model_score(models, X_train, X_test, y_train, y_test)"
   ]
  },
  {
   "cell_type": "code",
   "execution_count": 73,
   "id": "8703ea62",
   "metadata": {},
   "outputs": [
    {
     "data": {
      "text/html": [
       "<div>\n",
       "<style scoped>\n",
       "    .dataframe tbody tr th:only-of-type {\n",
       "        vertical-align: middle;\n",
       "    }\n",
       "\n",
       "    .dataframe tbody tr th {\n",
       "        vertical-align: top;\n",
       "    }\n",
       "\n",
       "    .dataframe thead th {\n",
       "        text-align: right;\n",
       "    }\n",
       "</style>\n",
       "<table border=\"1\" class=\"dataframe\">\n",
       "  <thead>\n",
       "    <tr style=\"text-align: right;\">\n",
       "      <th></th>\n",
       "      <th>model_name</th>\n",
       "      <th>accuracy_score</th>\n",
       "      <th>precision_score</th>\n",
       "      <th>recall_score</th>\n",
       "      <th>f1_score</th>\n",
       "    </tr>\n",
       "  </thead>\n",
       "  <tbody>\n",
       "    <tr>\n",
       "      <th>0</th>\n",
       "      <td>LogisticRegression</td>\n",
       "      <td>0.87</td>\n",
       "      <td>0.60</td>\n",
       "      <td>0.15</td>\n",
       "      <td>0.24</td>\n",
       "    </tr>\n",
       "    <tr>\n",
       "      <th>1</th>\n",
       "      <td>DecisionTree</td>\n",
       "      <td>0.80</td>\n",
       "      <td>0.29</td>\n",
       "      <td>0.33</td>\n",
       "      <td>0.31</td>\n",
       "    </tr>\n",
       "    <tr>\n",
       "      <th>2</th>\n",
       "      <td>RandomForest</td>\n",
       "      <td>0.86</td>\n",
       "      <td>0.40</td>\n",
       "      <td>0.10</td>\n",
       "      <td>0.16</td>\n",
       "    </tr>\n",
       "    <tr>\n",
       "      <th>3</th>\n",
       "      <td>SVC</td>\n",
       "      <td>0.87</td>\n",
       "      <td>0.67</td>\n",
       "      <td>0.10</td>\n",
       "      <td>0.18</td>\n",
       "    </tr>\n",
       "    <tr>\n",
       "      <th>4</th>\n",
       "      <td>KNN</td>\n",
       "      <td>0.87</td>\n",
       "      <td>0.50</td>\n",
       "      <td>0.23</td>\n",
       "      <td>0.32</td>\n",
       "    </tr>\n",
       "    <tr>\n",
       "      <th>5</th>\n",
       "      <td>xgboost</td>\n",
       "      <td>0.84</td>\n",
       "      <td>0.32</td>\n",
       "      <td>0.15</td>\n",
       "      <td>0.21</td>\n",
       "    </tr>\n",
       "    <tr>\n",
       "      <th>6</th>\n",
       "      <td>NaiveBayes</td>\n",
       "      <td>0.78</td>\n",
       "      <td>0.30</td>\n",
       "      <td>0.46</td>\n",
       "      <td>0.36</td>\n",
       "    </tr>\n",
       "  </tbody>\n",
       "</table>\n",
       "</div>"
      ],
      "text/plain": [
       "           model_name  accuracy_score  precision_score  recall_score  f1_score\n",
       "0  LogisticRegression            0.87             0.60          0.15      0.24\n",
       "1        DecisionTree            0.80             0.29          0.33      0.31\n",
       "2        RandomForest            0.86             0.40          0.10      0.16\n",
       "3                 SVC            0.87             0.67          0.10      0.18\n",
       "4                 KNN            0.87             0.50          0.23      0.32\n",
       "5             xgboost            0.84             0.32          0.15      0.21\n",
       "6          NaiveBayes            0.78             0.30          0.46      0.36"
      ]
     },
     "execution_count": 73,
     "metadata": {},
     "output_type": "execute_result"
    }
   ],
   "source": [
    "#convert the model_scores to dataframe\n",
    "model_score_data = pd.DataFrame(model_scores)\n",
    "model_score_data"
   ]
  },
  {
   "cell_type": "markdown",
   "id": "410a554f",
   "metadata": {},
   "source": [
    "### Plotting a Bar Chart of the accuracy score"
   ]
  },
  {
   "cell_type": "code",
   "execution_count": 74,
   "id": "57ffcb3e",
   "metadata": {},
   "outputs": [
    {
     "data": {
      "image/png": "[encoded data removed]",
      "text/plain": [
       "<Figure size 700x400 with 1 Axes>"
      ]
     },
     "metadata": {},
     "output_type": "display_data"
    }
   ],
   "source": [
    "fig, ax = plt.subplots(figsize=[7,4])\n",
    "ax.bar(data=model_score_data, x='model_name', height='accuracy_score')\n",
    "\n",
    "ax.set_title('Accuracy Score of the Models')\n",
    "ax.set_xlabel('Models')\n",
    "ax.spines[['top', 'left', 'right']].set_visible(False)\n",
    "ax.yaxis.set_visible(False)\n",
    "ax.xaxis.set_tick_params(rotation=45)\n",
    "\n",
    "for index, values in enumerate(model_score_data['accuracy_score']):\n",
    "    ax.annotate(str(values*100)+'%', xy=(index, values+0.02), ha='center', va='center')\n",
    "\n",
    "    \n",
    "plt.show()"
   ]
  },
  {
   "cell_type": "markdown",
   "id": "11a50c96",
   "metadata": {},
   "source": [
    "- From the baseline model, LogisticRegression, SVC and KNN are the top three models with an accuracy of 87%"
   ]
  },
  {
   "cell_type": "markdown",
   "id": "9af3da20",
   "metadata": {},
   "source": [
    "# Model Evaluation"
   ]
  },
  {
   "cell_type": "markdown",
   "id": "2b255ab8",
   "metadata": {},
   "source": [
    "### create a function for model evalution"
   ]
  },
  {
   "cell_type": "code",
   "execution_count": 75,
   "id": "f22ea139",
   "metadata": {},
   "outputs": [],
   "source": [
    "#define a function for model evaluation\n",
    "\n",
    "def model_eval(models, X_train, y_train, k):\n",
    "    '''\n",
    "    This function takes the model, training dataset and the number of cross validation and \n",
    "    return the mean and standard deviation of the cross val score\n",
    "    '''\n",
    "    \n",
    "    #define an empty list\n",
    "    score_param = []\n",
    "    \n",
    "    #create a for loop\n",
    "    for model_name, mod in models.items():\n",
    "        model = mod['model']\n",
    "        score_cv = cross_val_score(model, X_train, y_train, cv=k)\n",
    "        score_cv_mean = score_cv.mean().round(2)\n",
    "        score_cv_std = score_cv.std().round(2)\n",
    "        \n",
    "        score_param.append({\n",
    "            'model_name': model_name,\n",
    "            'cv_score_mean': score_cv_mean,\n",
    "            'cv_score_std': score_cv_std\n",
    "        })\n",
    "    return score_param"
   ]
  },
  {
   "cell_type": "code",
   "execution_count": 76,
   "id": "a25abcf2",
   "metadata": {},
   "outputs": [],
   "source": [
    "#call the model evaluation function\n",
    "cross_val = model_eval(models, X, y, 5)"
   ]
  },
  {
   "cell_type": "code",
   "execution_count": 77,
   "id": "27e47847",
   "metadata": {},
   "outputs": [
    {
     "data": {
      "text/html": [
       "<div>\n",
       "<style scoped>\n",
       "    .dataframe tbody tr th:only-of-type {\n",
       "        vertical-align: middle;\n",
       "    }\n",
       "\n",
       "    .dataframe tbody tr th {\n",
       "        vertical-align: top;\n",
       "    }\n",
       "\n",
       "    .dataframe thead th {\n",
       "        text-align: right;\n",
       "    }\n",
       "</style>\n",
       "<table border=\"1\" class=\"dataframe\">\n",
       "  <thead>\n",
       "    <tr style=\"text-align: right;\">\n",
       "      <th></th>\n",
       "      <th>model_name</th>\n",
       "      <th>cv_score_mean</th>\n",
       "      <th>cv_score_std</th>\n",
       "    </tr>\n",
       "  </thead>\n",
       "  <tbody>\n",
       "    <tr>\n",
       "      <th>0</th>\n",
       "      <td>LogisticRegression</td>\n",
       "      <td>0.84</td>\n",
       "      <td>0.00</td>\n",
       "    </tr>\n",
       "    <tr>\n",
       "      <th>1</th>\n",
       "      <td>DecisionTree</td>\n",
       "      <td>0.78</td>\n",
       "      <td>0.03</td>\n",
       "    </tr>\n",
       "    <tr>\n",
       "      <th>2</th>\n",
       "      <td>RandomForest</td>\n",
       "      <td>0.85</td>\n",
       "      <td>0.01</td>\n",
       "    </tr>\n",
       "    <tr>\n",
       "      <th>3</th>\n",
       "      <td>SVC</td>\n",
       "      <td>0.84</td>\n",
       "      <td>0.00</td>\n",
       "    </tr>\n",
       "    <tr>\n",
       "      <th>4</th>\n",
       "      <td>KNN</td>\n",
       "      <td>0.83</td>\n",
       "      <td>0.01</td>\n",
       "    </tr>\n",
       "    <tr>\n",
       "      <th>5</th>\n",
       "      <td>xgboost</td>\n",
       "      <td>0.85</td>\n",
       "      <td>0.01</td>\n",
       "    </tr>\n",
       "    <tr>\n",
       "      <th>6</th>\n",
       "      <td>NaiveBayes</td>\n",
       "      <td>0.77</td>\n",
       "      <td>0.02</td>\n",
       "    </tr>\n",
       "  </tbody>\n",
       "</table>\n",
       "</div>"
      ],
      "text/plain": [
       "           model_name  cv_score_mean  cv_score_std\n",
       "0  LogisticRegression           0.84          0.00\n",
       "1        DecisionTree           0.78          0.03\n",
       "2        RandomForest           0.85          0.01\n",
       "3                 SVC           0.84          0.00\n",
       "4                 KNN           0.83          0.01\n",
       "5             xgboost           0.85          0.01\n",
       "6          NaiveBayes           0.77          0.02"
      ]
     },
     "execution_count": 77,
     "metadata": {},
     "output_type": "execute_result"
    }
   ],
   "source": [
    "#convert the cross val scores to dataframe\n",
    "cross_val_data = pd.DataFrame(cross_val)\n",
    "cross_val_data"
   ]
  },
  {
   "cell_type": "code",
   "execution_count": 78,
   "id": "b1e6331c",
   "metadata": {},
   "outputs": [
    {
     "data": {
      "image/png": "[encoded data removed]",
      "text/plain": [
       "<Figure size 700x400 with 1 Axes>"
      ]
     },
     "metadata": {},
     "output_type": "display_data"
    }
   ],
   "source": [
    "fig, ax = plt.subplots(figsize=[7,4])\n",
    "ax.bar(data=cross_val_data, x='model_name', height='cv_score_mean')\n",
    "\n",
    "ax.set_title('Cross Validation Score of the Models')\n",
    "ax.set_xlabel('Models')\n",
    "ax.spines[['top', 'left', 'right']].set_visible(False)\n",
    "ax.yaxis.set_visible(False)\n",
    "ax.xaxis.set_tick_params(rotation=45)\n",
    "\n",
    "for index, values in enumerate(cross_val_data['cv_score_mean']):\n",
    "    ax.annotate(str(values*100)+'%', xy=(index, values+0.02), ha='center', va='center')\n",
    "\n",
    "    \n",
    "plt.show()"
   ]
  },
  {
   "cell_type": "markdown",
   "id": "bfe3e643",
   "metadata": {},
   "source": [
    "- From the cross validation, RandomForestClassifier and XGBoost perform better with 85% "
   ]
  },
  {
   "cell_type": "markdown",
   "id": "46f9ef9a",
   "metadata": {},
   "source": [
    "# Hyperparameter Tuning"
   ]
  },
  {
   "cell_type": "code",
   "execution_count": 79,
   "id": "6b24c990",
   "metadata": {},
   "outputs": [],
   "source": [
    "#specify the hyperparameter grid and model\n",
    "param_models = {\n",
    "    'LogisticRegression': {\n",
    "        'model': LogisticRegression(),\n",
    "        'params': {\n",
    "            'multi_class': ['ovr'],\n",
    "            'solver': ['liblinear']\n",
    "        }\n",
    "    },\n",
    "    'SVM': {\n",
    "        'model': SVC(),\n",
    "        'params': {\n",
    "            'kernel': ['linear', 'rbf'],\n",
    "            'C': [0.001, 0.01, 0.1, 1, 10],\n",
    "            'gamma': [0.01, 0.1, 1, 10]\n",
    "        }\n",
    "    },\n",
    "    'DecisionTree': {\n",
    "        'model': DecisionTreeClassifier(),\n",
    "        'params': {\n",
    "            'criterion': ['gini', 'entropy'], \n",
    "            'max_depth': np.arange(2, 11, 1),\n",
    "            'max_features': ['sqrt', 'log2']\n",
    "            \n",
    "        }\n",
    "    },\n",
    "    'RandomForest': {\n",
    "        'model': RandomForestClassifier(),\n",
    "        'params': {\n",
    "            'criterion': ['gini', 'entropy'], \n",
    "            'max_depth': np.arange(2, 11, 1),\n",
    "            'max_features': ['sqrt', 'log2'],\n",
    "            'n_estimators': np.arange(20, 210, 10)\n",
    "            \n",
    "        }\n",
    "    },\n",
    "    'NaiveBayes': {\n",
    "        'model': GaussianNB(),\n",
    "        'params': {\n",
    "            'var_smoothing': np.logspace(0, -9, num=100)\n",
    "        }\n",
    "    },\n",
    "    'KNN': {\n",
    "        'model':KNN(),\n",
    "        'params': {\n",
    "            'n_neighbors': np.arange(2, 11, 1)\n",
    "        }\n",
    "    },\n",
    "    \n",
    "    'XGBOOST': {\n",
    "        'model':XGBClassifier(),\n",
    "        'params': {\n",
    "            'n_estimators': np.arange(20, 210, 10),\n",
    "            'learning_rate': [0.1, 0.01, 0.001]\n",
    "        }\n",
    "    }\n",
    "}"
   ]
  },
  {
   "cell_type": "code",
   "execution_count": 80,
   "id": "39117096",
   "metadata": {},
   "outputs": [],
   "source": [
    "# create a for loop to perform hyperparameter tunning\n",
    "grid_score = []\n",
    "for model_name, mp in param_models.items():\n",
    "    grid_search = GridSearchCV(mp['model'], mp['params'], cv=5, n_jobs=-1)\n",
    "    grid_search.fit(X_train, y_train)\n",
    "    grid_score.append({\n",
    "        'model_name': model_name,\n",
    "        'best_score': grid_search.best_score_,\n",
    "        'best_parameter': grid_search.best_params_\n",
    "    })"
   ]
  },
  {
   "cell_type": "code",
   "execution_count": 81,
   "id": "afb6a4da",
   "metadata": {},
   "outputs": [
    {
     "data": {
      "text/plain": [
       "[{'model_name': 'LogisticRegression',\n",
       "  'best_score': 0.8537396321673277,\n",
       "  'best_parameter': {'multi_class': 'ovr', 'solver': 'liblinear'}},\n",
       " {'model_name': 'SVM',\n",
       "  'best_score': 0.8571438874864767,\n",
       "  'best_parameter': {'C': 10, 'gamma': 0.01, 'kernel': 'rbf'}},\n",
       " {'model_name': 'DecisionTree',\n",
       "  'best_score': 0.8443743238369995,\n",
       "  'best_parameter': {'criterion': 'gini',\n",
       "   'max_depth': 4,\n",
       "   'max_features': 'sqrt'}},\n",
       " {'model_name': 'RandomForest',\n",
       "  'best_score': 0.862243058059863,\n",
       "  'best_parameter': {'criterion': 'entropy',\n",
       "   'max_depth': 8,\n",
       "   'max_features': 'sqrt',\n",
       "   'n_estimators': 130}},\n",
       " {'model_name': 'NaiveBayes',\n",
       "  'best_score': 0.8588351965380454,\n",
       "  'best_parameter': {'var_smoothing': 1.0}},\n",
       " {'model_name': 'KNN',\n",
       "  'best_score': 0.8511972592859719,\n",
       "  'best_parameter': {'n_neighbors': 10}},\n",
       " {'model_name': 'XGBOOST',\n",
       "  'best_score': 0.8494951316263973,\n",
       "  'best_parameter': {'learning_rate': 0.01, 'n_estimators': 130}}]"
      ]
     },
     "execution_count": 81,
     "metadata": {},
     "output_type": "execute_result"
    }
   ],
   "source": [
    "grid_score"
   ]
  },
  {
   "cell_type": "code",
   "execution_count": 82,
   "id": "b90a68b5",
   "metadata": {},
   "outputs": [
    {
     "data": {
      "text/html": [
       "<div>\n",
       "<style scoped>\n",
       "    .dataframe tbody tr th:only-of-type {\n",
       "        vertical-align: middle;\n",
       "    }\n",
       "\n",
       "    .dataframe tbody tr th {\n",
       "        vertical-align: top;\n",
       "    }\n",
       "\n",
       "    .dataframe thead th {\n",
       "        text-align: right;\n",
       "    }\n",
       "</style>\n",
       "<table border=\"1\" class=\"dataframe\">\n",
       "  <thead>\n",
       "    <tr style=\"text-align: right;\">\n",
       "      <th></th>\n",
       "      <th>model_name</th>\n",
       "      <th>best_score</th>\n",
       "      <th>best_parameter</th>\n",
       "    </tr>\n",
       "  </thead>\n",
       "  <tbody>\n",
       "    <tr>\n",
       "      <th>0</th>\n",
       "      <td>LogisticRegression</td>\n",
       "      <td>0.853740</td>\n",
       "      <td>{'multi_class': 'ovr', 'solver': 'liblinear'}</td>\n",
       "    </tr>\n",
       "    <tr>\n",
       "      <th>1</th>\n",
       "      <td>SVM</td>\n",
       "      <td>0.857144</td>\n",
       "      <td>{'C': 10, 'gamma': 0.01, 'kernel': 'rbf'}</td>\n",
       "    </tr>\n",
       "    <tr>\n",
       "      <th>2</th>\n",
       "      <td>DecisionTree</td>\n",
       "      <td>0.844374</td>\n",
       "      <td>{'criterion': 'gini', 'max_depth': 4, 'max_fea...</td>\n",
       "    </tr>\n",
       "    <tr>\n",
       "      <th>3</th>\n",
       "      <td>RandomForest</td>\n",
       "      <td>0.862243</td>\n",
       "      <td>{'criterion': 'entropy', 'max_depth': 8, 'max_...</td>\n",
       "    </tr>\n",
       "    <tr>\n",
       "      <th>4</th>\n",
       "      <td>NaiveBayes</td>\n",
       "      <td>0.858835</td>\n",
       "      <td>{'var_smoothing': 1.0}</td>\n",
       "    </tr>\n",
       "    <tr>\n",
       "      <th>5</th>\n",
       "      <td>KNN</td>\n",
       "      <td>0.851197</td>\n",
       "      <td>{'n_neighbors': 10}</td>\n",
       "    </tr>\n",
       "    <tr>\n",
       "      <th>6</th>\n",
       "      <td>XGBOOST</td>\n",
       "      <td>0.849495</td>\n",
       "      <td>{'learning_rate': 0.01, 'n_estimators': 130}</td>\n",
       "    </tr>\n",
       "  </tbody>\n",
       "</table>\n",
       "</div>"
      ],
      "text/plain": [
       "           model_name  best_score  \\\n",
       "0  LogisticRegression    0.853740   \n",
       "1                 SVM    0.857144   \n",
       "2        DecisionTree    0.844374   \n",
       "3        RandomForest    0.862243   \n",
       "4          NaiveBayes    0.858835   \n",
       "5                 KNN    0.851197   \n",
       "6             XGBOOST    0.849495   \n",
       "\n",
       "                                      best_parameter  \n",
       "0      {'multi_class': 'ovr', 'solver': 'liblinear'}  \n",
       "1          {'C': 10, 'gamma': 0.01, 'kernel': 'rbf'}  \n",
       "2  {'criterion': 'gini', 'max_depth': 4, 'max_fea...  \n",
       "3  {'criterion': 'entropy', 'max_depth': 8, 'max_...  \n",
       "4                             {'var_smoothing': 1.0}  \n",
       "5                                {'n_neighbors': 10}  \n",
       "6       {'learning_rate': 0.01, 'n_estimators': 130}  "
      ]
     },
     "execution_count": 82,
     "metadata": {},
     "output_type": "execute_result"
    }
   ],
   "source": [
    "#convert the grid score to dataframe\n",
    "grid_data = pd.DataFrame(grid_score)\n",
    "grid_data"
   ]
  },
  {
   "cell_type": "code",
   "execution_count": 83,
   "id": "3d9f0251",
   "metadata": {},
   "outputs": [
    {
     "data": {
      "image/png": "[encoded data removed]",
      "text/plain": [
       "<Figure size 700x400 with 1 Axes>"
      ]
     },
     "metadata": {},
     "output_type": "display_data"
    }
   ],
   "source": [
    "#plot a bar chart of the grid score\n",
    "fig, ax = plt.subplots(figsize=[7,4])\n",
    "ax.bar(data=grid_data, x='model_name', height='best_score')\n",
    "\n",
    "ax.set_title('Best Score of the Hyperparameter tuning of Models')\n",
    "ax.set_xlabel('Models')\n",
    "ax.spines[['top', 'left', 'right']].set_visible(False)\n",
    "ax.yaxis.set_visible(False)\n",
    "ax.xaxis.set_tick_params(rotation=45)\n",
    "\n",
    "for index, values in enumerate(grid_data['best_score']):\n",
    "    ax.annotate(str(round(values*100, 2))+'%', xy=(index, values+0.02), ha='center', va='center')\n",
    "\n",
    "    \n",
    "plt.show()"
   ]
  },
  {
   "cell_type": "markdown",
   "id": "bdf040ee",
   "metadata": {},
   "source": [
    "- The best model is Random Forest Classifier"
   ]
  },
  {
   "cell_type": "markdown",
   "id": "70e77c5e",
   "metadata": {},
   "source": [
    "## Random Forest (with best parameter)"
   ]
  },
  {
   "cell_type": "code",
   "execution_count": 84,
   "id": "81872b1f",
   "metadata": {},
   "outputs": [],
   "source": [
    "#instantiate the best model with its parameter\n",
    "model = RandomForestClassifier(n_estimators=130, criterion='entropy', max_depth=8, max_features='sqrt')"
   ]
  },
  {
   "cell_type": "code",
   "execution_count": 85,
   "id": "bd7b8166",
   "metadata": {},
   "outputs": [
    {
     "data": {
      "text/html": [
       "<style>#sk-container-id-1 {color: black;background-color: white;}#sk-container-id-1 pre{padding: 0;}#sk-container-id-1 div.sk-toggleable {background-color: white;}#sk-container-id-1 label.sk-toggleable__label {cursor: pointer;display: block;width: 100%;margin-bottom: 0;padding: 0.3em;box-sizing: border-box;text-align: center;}#sk-container-id-1 label.sk-toggleable__label-arrow:before {content: \"▸\";float: left;margin-right: 0.25em;color: #696969;}#sk-container-id-1 label.sk-toggleable__label-arrow:hover:before {color: black;}#sk-container-id-1 div.sk-estimator:hover label.sk-toggleable__label-arrow:before {color: black;}#sk-container-id-1 div.sk-toggleable__content {max-height: 0;max-width: 0;overflow: hidden;text-align: left;background-color: #f0f8ff;}#sk-container-id-1 div.sk-toggleable__content pre {margin: 0.2em;color: black;border-radius: 0.25em;background-color: #f0f8ff;}#sk-container-id-1 input.sk-toggleable__control:checked~div.sk-toggleable__content {max-height: 200px;max-width: 100%;overflow: auto;}#sk-container-id-1 input.sk-toggleable__control:checked~label.sk-toggleable__label-arrow:before {content: \"▾\";}#sk-container-id-1 div.sk-estimator input.sk-toggleable__control:checked~label.sk-toggleable__label {background-color: #d4ebff;}#sk-container-id-1 div.sk-label input.sk-toggleable__control:checked~label.sk-toggleable__label {background-color: #d4ebff;}#sk-container-id-1 input.sk-hidden--visually {border: 0;clip: rect(1px 1px 1px 1px);clip: rect(1px, 1px, 1px, 1px);height: 1px;margin: -1px;overflow: hidden;padding: 0;position: absolute;width: 1px;}#sk-container-id-1 div.sk-estimator {font-family: monospace;background-color: #f0f8ff;border: 1px dotted black;border-radius: 0.25em;box-sizing: border-box;margin-bottom: 0.5em;}#sk-container-id-1 div.sk-estimator:hover {background-color: #d4ebff;}#sk-container-id-1 div.sk-parallel-item::after {content: \"\";width: 100%;border-bottom: 1px solid gray;flex-grow: 1;}#sk-container-id-1 div.sk-label:hover label.sk-toggleable__label {background-color: #d4ebff;}#sk-container-id-1 div.sk-serial::before {content: \"\";position: absolute;border-left: 1px solid gray;box-sizing: border-box;top: 0;bottom: 0;left: 50%;z-index: 0;}#sk-container-id-1 div.sk-serial {display: flex;flex-direction: column;align-items: center;background-color: white;padding-right: 0.2em;padding-left: 0.2em;position: relative;}#sk-container-id-1 div.sk-item {position: relative;z-index: 1;}#sk-container-id-1 div.sk-parallel {display: flex;align-items: stretch;justify-content: center;background-color: white;position: relative;}#sk-container-id-1 div.sk-item::before, #sk-container-id-1 div.sk-parallel-item::before {content: \"\";position: absolute;border-left: 1px solid gray;box-sizing: border-box;top: 0;bottom: 0;left: 50%;z-index: -1;}#sk-container-id-1 div.sk-parallel-item {display: flex;flex-direction: column;z-index: 1;position: relative;background-color: white;}#sk-container-id-1 div.sk-parallel-item:first-child::after {align-self: flex-end;width: 50%;}#sk-container-id-1 div.sk-parallel-item:last-child::after {align-self: flex-start;width: 50%;}#sk-container-id-1 div.sk-parallel-item:only-child::after {width: 0;}#sk-container-id-1 div.sk-dashed-wrapped {border: 1px dashed gray;margin: 0 0.4em 0.5em 0.4em;box-sizing: border-box;padding-bottom: 0.4em;background-color: white;}#sk-container-id-1 div.sk-label label {font-family: monospace;font-weight: bold;display: inline-block;line-height: 1.2em;}#sk-container-id-1 div.sk-label-container {text-align: center;}#sk-container-id-1 div.sk-container {/* jupyter's `normalize.less` sets `[hidden] { display: none; }` but bootstrap.min.css set `[hidden] { display: none !important; }` so we also need the `!important` here to be able to override the default hidden behavior on the sphinx rendered scikit-learn.org. See: https://github.com/scikit-learn/scikit-learn/issues/21755 */display: inline-block !important;position: relative;}#sk-container-id-1 div.sk-text-repr-fallback {display: none;}</style><div id=\"sk-container-id-1\" class=\"sk-top-container\"><div class=\"sk-text-repr-fallback\"><pre>RandomForestClassifier(criterion=&#x27;entropy&#x27;, max_depth=8, n_estimators=130)</pre><b>In a Jupyter environment, please rerun this cell to show the HTML representation or trust the notebook. <br />On GitHub, the HTML representation is unable to render, please try loading this page with nbviewer.org.</b></div><div class=\"sk-container\" hidden><div class=\"sk-item\"><div class=\"sk-estimator sk-toggleable\"><input class=\"sk-toggleable__control sk-hidden--visually\" id=\"sk-estimator-id-1\" type=\"checkbox\" checked><label for=\"sk-estimator-id-1\" class=\"sk-toggleable__label sk-toggleable__label-arrow\">RandomForestClassifier</label><div class=\"sk-toggleable__content\"><pre>RandomForestClassifier(criterion=&#x27;entropy&#x27;, max_depth=8, n_estimators=130)</pre></div></div></div></div></div>"
      ],
      "text/plain": [
       "RandomForestClassifier(criterion='entropy', max_depth=8, n_estimators=130)"
      ]
     },
     "execution_count": 85,
     "metadata": {},
     "output_type": "execute_result"
    }
   ],
   "source": [
    "#fit the model \n",
    "model.fit(X_train, y_train)"
   ]
  },
  {
   "cell_type": "code",
   "execution_count": 86,
   "id": "609f1192",
   "metadata": {},
   "outputs": [],
   "source": [
    "#predict the y_test\n",
    "y_pred_model = model.predict(X_test)"
   ]
  },
  {
   "cell_type": "code",
   "execution_count": 87,
   "id": "b2d0eebb",
   "metadata": {},
   "outputs": [
    {
     "name": "stdout",
     "output_type": "stream",
     "text": [
      "0.8707482993197279\n"
     ]
    }
   ],
   "source": [
    "#print the accuracy score\n",
    "print(accuracy_score(y_test, y_pred_model))"
   ]
  },
  {
   "cell_type": "markdown",
   "id": "83144d32",
   "metadata": {},
   "source": [
    "### Confusion Matrix"
   ]
  },
  {
   "cell_type": "code",
   "execution_count": 88,
   "id": "818a154c",
   "metadata": {},
   "outputs": [
    {
     "data": {
      "text/plain": [
       "<sklearn.metrics._plot.confusion_matrix.ConfusionMatrixDisplay at 0x17217539c30>"
      ]
     },
     "execution_count": 88,
     "metadata": {},
     "output_type": "execute_result"
    },
    {
     "data": {
      "image/png": "[encoded data removed]",
      "text/plain": [
       "<Figure size 640x480 with 2 Axes>"
      ]
     },
     "metadata": {},
     "output_type": "display_data"
    }
   ],
   "source": [
    "#display the confusion matrix\n",
    "ConfusionMatrixDisplay.from_predictions(y_test, y_pred_model)"
   ]
  },
  {
   "cell_type": "markdown",
   "id": "2609e0cd",
   "metadata": {},
   "source": [
    "### ROC Curve"
   ]
  },
  {
   "cell_type": "code",
   "execution_count": 89,
   "id": "d8df5950",
   "metadata": {},
   "outputs": [
    {
     "data": {
      "text/plain": [
       "<sklearn.metrics._plot.roc_curve.RocCurveDisplay at 0x17217459840>"
      ]
     },
     "execution_count": 89,
     "metadata": {},
     "output_type": "execute_result"
    },
    {
     "data": {
      "image/png": "[encoded data removed]",
      "text/plain": [
       "<Figure size 640x480 with 1 Axes>"
      ]
     },
     "metadata": {},
     "output_type": "display_data"
    }
   ],
   "source": [
    "#display the ROC Curve\n",
    "RocCurveDisplay.from_predictions(y_test, y_pred_model)"
   ]
  },
  {
   "cell_type": "markdown",
   "id": "9e6b2ba4",
   "metadata": {},
   "source": [
    "## Saving the model"
   ]
  },
  {
   "cell_type": "code",
   "execution_count": 90,
   "id": "945278d5",
   "metadata": {},
   "outputs": [],
   "source": [
    "#import the module pickle\n",
    "import pickle"
   ]
  },
  {
   "cell_type": "code",
   "execution_count": 91,
   "id": "51f731fa",
   "metadata": {},
   "outputs": [],
   "source": [
    "#saved the model\n",
    "pickle.dump(model, open('model.pkl', 'wb'))"
   ]
  },
  {
   "cell_type": "code",
   "execution_count": 92,
   "id": "ee2d2501",
   "metadata": {},
   "outputs": [],
   "source": [
    "#save the scaler preprocessor\n",
    "pickle.dump(scaler, open('scaler.pickle', 'wb'))"
   ]
  }
 ],
 "metadata": {
  "kernelspec": {
   "display_name": "Python 3 (ipykernel)",
   "language": "python",
   "name": "python3"
  },
  "language_info": {
   "codemirror_mode": {
    "name": "ipython",
    "version": 3
   },
   "file_extension": ".py",
   "mimetype": "text/x-python",
   "name": "python",
   "nbconvert_exporter": "python",
   "pygments_lexer": "ipython3",
   "version": "3.10.9"
  },
  "varInspector": {
   "cols": {
    "lenName": 16,
    "lenType": 16,
    "lenVar": 40
   },
   "kernels_config": {
    "python": {
     "delete_cmd_postfix": "",
     "delete_cmd_prefix": "del ",
     "library": "var_list.py",
     "varRefreshCmd": "print(var_dic_list())"
    },
    "r": {
     "delete_cmd_postfix": ") ",
     "delete_cmd_prefix": "rm(",
     "library": "var_list.r",
     "varRefreshCmd": "cat(var_dic_list()) "
    }
   },
   "types_to_exclude": [
    "module",
    "function",
    "builtin_function_or_method",
    "instance",
    "_Feature"
   ],
   "window_display": false
  }
 },
 "nbformat": 4,
 "nbformat_minor": 5
}
